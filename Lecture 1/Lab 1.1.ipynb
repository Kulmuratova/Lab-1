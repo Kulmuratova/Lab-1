{
 "cells": [
  {
   "cell_type": "markdown",
   "id": "41732f0e-3fed-45f4-9e90-bc7f83dc9d45",
   "metadata": {},
   "source": [
    "example 1"
   ]
  },
  {
   "cell_type": "code",
   "execution_count": 8,
   "id": "e9fab5f9-dcb5-461c-9c51-edf7fc59da7d",
   "metadata": {},
   "outputs": [
    {
     "name": "stdout",
     "output_type": "stream",
     "text": [
      "Hello!\n"
     ]
    }
   ],
   "source": [
    "print(\"Hello!\")"
   ]
  },
  {
   "cell_type": "code",
   "execution_count": 5,
   "id": "6a3c7a4f-8795-4370-b337-3c7f623b71be",
   "metadata": {},
   "outputs": [
    {
     "name": "stdout",
     "output_type": "stream",
     "text": [
      "Hello, my name is KBTU.\n"
     ]
    }
   ],
   "source": [
    "print(\"Hello, my name is KBTU.\")"
   ]
  },
  {
   "cell_type": "markdown",
   "id": "0770c053-b79e-4da0-8fdf-8956608ecb7e",
   "metadata": {},
   "source": [
    "Example 2"
   ]
  },
  {
   "cell_type": "code",
   "execution_count": null,
   "id": "af337acb-1eda-4a14-95bf-5a22e5446e6b",
   "metadata": {},
   "outputs": [],
   "source": []
  }
 ],
 "metadata": {
  "kernelspec": {
   "display_name": "Python [conda env:base] *",
   "language": "python",
   "name": "conda-base-py"
  },
  "language_info": {
   "codemirror_mode": {
    "name": "ipython",
    "version": 3
   },
   "file_extension": ".py",
   "mimetype": "text/x-python",
   "name": "python",
   "nbconvert_exporter": "python",
   "pygments_lexer": "ipython3",
   "version": "3.12.7"
  }
 },
 "nbformat": 4,
 "nbformat_minor": 5
}
